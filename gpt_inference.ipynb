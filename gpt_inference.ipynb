{
 "cells": [
  {
   "cell_type": "code",
   "execution_count": 2,
   "metadata": {},
   "outputs": [],
   "source": [
    "import os\n",
    "import json\n",
    "import pandas as pd\n",
    "import numpy as np\n",
    "from tqdm import tqdm\n",
    "import time\n",
    "from openai import AzureOpenAI\n",
    "from sklearn.metrics import classification_report, confusion_matrix, accuracy_score\n",
    "import matplotlib.pyplot as plt\n",
    "import seaborn as sns"
   ]
  },
  {
   "cell_type": "code",
   "execution_count": 3,
   "metadata": {},
   "outputs": [
    {
     "name": "stdout",
     "output_type": "stream",
     "text": [
      "Dataset size: 25 records\n",
      "\n",
      "Transport mode distribution:\n",
      "transport_mode\n",
      "bike      5\n",
      "bus       5\n",
      "car       5\n",
      "others    5\n",
      "walk      5\n",
      "Name: count, dtype: int64\n",
      "\n",
      "First few records:\n",
      "  transport_mode                                            summary\n",
      "0           bike  Trip Summary:\\n- Start: 2008-05-10 16:36:11 at...\n",
      "1           bike  Trip Summary:\\n- Start: 2008-05-14 16:00:36 at...\n",
      "2           bike  Trip Summary:\\n- Start: 2008-07-18 15:08:29 at...\n",
      "3           bike  Trip Summary:\\n- Start: 2008-07-09 12:34:11 at...\n",
      "4           bike  Trip Summary:\\n- Start: 2008-09-17 16:44:01 at...\n"
     ]
    }
   ],
   "source": [
    "\n",
    "# Load the JSONL file\n",
    "data = []\n",
    "with open('balanced_trip_summaries.jsonl', 'r') as f:\n",
    "    for line in f:\n",
    "        data.append(json.loads(line))\n",
    "\n",
    "# Convert to DataFrame\n",
    "df = pd.DataFrame(data)\n",
    "\n",
    "# Display the first few rows and basic stats\n",
    "print(f\"Dataset size: {len(df)} records\")\n",
    "print(\"\\nTransport mode distribution:\")\n",
    "print(df['transport_mode'].value_counts())\n",
    "print(\"\\nFirst few records:\")\n",
    "print(df.head())"
   ]
  },
  {
   "cell_type": "code",
   "execution_count": 5,
   "metadata": {},
   "outputs": [],
   "source": [
    "# Initialize the Azure OpenAI client\n",
    "azure_openai = AzureOpenAI(\n",
    "    azure_endpoint=\"https://intelligencia-openai-lab02.openai.azure.com/\",\n",
    "    api_key=\"049425cc99184a619ff068082279749f\",\n",
    "    api_version=\"2024-02-15-preview\"\n",
    ")"
   ]
  },
  {
   "cell_type": "code",
   "execution_count": 6,
   "metadata": {},
   "outputs": [],
   "source": [
    "\n",
    "# ## Define Inference Function\n",
    "\n",
    "def predict_transport_mode(summary, model=\"gpt-4o\", retry_attempts=3, retry_delay=2):\n",
    "    \"\"\"\n",
    "    Predict the transport mode from a trip summary using Azure OpenAI.\n",
    "    \n",
    "    Args:\n",
    "        summary (str): The trip summary text\n",
    "        model (str): The GPT model to use\n",
    "        retry_attempts (int): Number of retry attempts if API call fails\n",
    "        retry_delay (int): Delay in seconds between retries\n",
    "        \n",
    "    Returns:\n",
    "        str: Predicted transport mode\n",
    "    \"\"\"\n",
    "    prompt = f\"\"\"\n",
    "You are a transportation mode analysis expert. Analyze the trip summary below and determine the most likely mode of transportation used.\n",
    "\n",
    "Pay close attention to these key indicators:\n",
    "- Average speed and speed variations\n",
    "- Acceleration patterns\n",
    "- Number of turns and turn rates\n",
    "- Duration and distance\n",
    "- Start and end locations\n",
    "\n",
    "The trip summary includes various metrics that can help identify the transportation mode:\n",
    "- Walking typically has slow speeds (3-6 km/h), low acceleration, and potentially high turn rates\n",
    "- Biking usually shows moderate speeds (10-20 km/h), moderate acceleration, and varied turn patterns\n",
    "- Bus travel shows moderate speeds (15-30 km/h), lower acceleration, and fewer turns per km\n",
    "- Cars typically have higher speeds (30-80 km/h), higher acceleration capabilities, and varied turn patterns\n",
    "- Subway/train travel often has high speeds, very consistent acceleration/deceleration patterns\n",
    "\n",
    "Based on your analysis, classify the transportation mode as one of: bike, bus, car, subway, train, or walk.\n",
    "Only respond with the single word for the most likely transportation mode.\n",
    "\n",
    "Trip Summary:\n",
    "{summary}\n",
    "\"\"\"\n",
    "    \n",
    "    for attempt in range(retry_attempts):\n",
    "        try:\n",
    "            response = azure_openai.chat.completions.create(\n",
    "                model=model,\n",
    "                messages=[\n",
    "                    {\"role\": \"system\", \"content\": \"You are a transportation mode analysis expert that provides concise, single-word answers.\"},\n",
    "                    {\"role\": \"user\", \"content\": prompt}\n",
    "                ],\n",
    "                temperature=0.0,  # Keep it deterministic\n",
    "                max_tokens=10    # We only need a short answer\n",
    "            )\n",
    "            \n",
    "            predicted_mode = response.choices[0].message.content.strip().lower()\n",
    "            \n",
    "            # Clean up the prediction if needed\n",
    "            if predicted_mode in ['bike', 'bicycle', 'cycling']:\n",
    "                return 'bike'\n",
    "            elif predicted_mode in ['bus', 'coach']:\n",
    "                return 'bus'\n",
    "            elif predicted_mode in ['car', 'taxi', 'automobile', 'drive']:\n",
    "                return 'car'\n",
    "            elif predicted_mode in ['subway', 'metro', 'underground']:\n",
    "                return 'subway'\n",
    "            elif predicted_mode in ['train', 'rail']:\n",
    "                return 'train'\n",
    "            elif predicted_mode in ['walk', 'walking', 'on foot']:\n",
    "                return 'walk'\n",
    "            else:\n",
    "                return predicted_mode  # Return as is if not one of the expected modes\n",
    "            \n",
    "        except Exception as e:\n",
    "            if attempt < retry_attempts - 1:\n",
    "                print(f\"API call failed: {e}. Retrying in {retry_delay} seconds...\")\n",
    "                time.sleep(retry_delay)\n",
    "            else:\n",
    "                print(f\"API call failed after {retry_attempts} attempts: {e}\")\n",
    "                return \"error\"  # Return error indication if all retries fail"
   ]
  },
  {
   "cell_type": "code",
   "execution_count": 5,
   "metadata": {},
   "outputs": [
    {
     "name": "stdout",
     "output_type": "stream",
     "text": [
      "\n",
      "Test summary:\n",
      "Trip Summary:\n",
      "- Start: 2011-11-08 20:48:08 at 知春路, 知春东里社区, 中关村街道, 海淀区, 北京市, 100086, 中国\n",
      "- End: 2011-11-08 20:52:33 at 中关村街道, 海淀区, 北京市, 100098, 中国\n",
      "- Duration: 0 days 00:04:25\n",
      "- Distance: 0.96 km\n",
      "- Average Speed: 12.98 km/h\n",
      "- Average Bearing Change: 63.22°\n",
      "- Max Speed: 15.78 km/h\n",
      "- Min Speed: 0.00 km/h\n",
      "- Speed Variability: 2.57 km/h\n",
      "- Average Acceleration: 0.01 m/s²\n",
      "- Max Acceleration: 0.70 m/s²\n",
      "- Number of Turns: 10\n",
      "- Turn Rate: 2.31 turns/min\n",
      "- Average Turn Angle: 63.22°\n",
      "- Turn Angle Variability: 119.39°\n",
      "- Transport Mode: bike\n",
      "\n",
      "True transport mode: bike\n"
     ]
    }
   ],
   "source": [
    "\n",
    "# Test the function with a single example\n",
    "test_summary = df.iloc[0]['summary']\n",
    "true_mode = df.iloc[0]['transport_mode']\n",
    "\n",
    "print(f\"\\nTest summary:\\n{test_summary}\\n\")\n",
    "print(f\"True transport mode: {true_mode}\")"
   ]
  },
  {
   "cell_type": "code",
   "execution_count": 16,
   "metadata": {},
   "outputs": [
    {
     "name": "stdout",
     "output_type": "stream",
     "text": [
      "Using a stratified sample of 80 examples\n"
     ]
    },
    {
     "name": "stderr",
     "output_type": "stream",
     "text": [
      "Running inference with gpt-4o: 100%|██████████| 80/80 [01:59<00:00,  1.50s/it]"
     ]
    },
    {
     "name": "stdout",
     "output_type": "stream",
     "text": [
      "\n",
      "Estimated API cost: $0.80\n"
     ]
    },
    {
     "name": "stderr",
     "output_type": "stream",
     "text": [
      "\n"
     ]
    }
   ],
   "source": [
    "\n",
    "# ## Run Inference on the Full Dataset\n",
    "#\n",
    "# Note: This will make API calls for each example and may incur costs. You might want to run this on a subset first.\n",
    "\n",
    "def run_inference(df, model=\"gpt-4o\", sample_size=None):\n",
    "    \"\"\"\n",
    "    Run inference on the dataset and return results.\n",
    "    \n",
    "    Args:\n",
    "        df (DataFrame): The dataset\n",
    "        model (str): The GPT model to use\n",
    "        sample_size (int): Optional sample size to limit API calls\n",
    "        \n",
    "    Returns:\n",
    "        DataFrame: Original dataframe with predictions added\n",
    "    \"\"\"\n",
    "    # If sample_size is provided, take a stratified sample\n",
    "    if sample_size and sample_size < len(df):\n",
    "        df_sample = df.groupby('transport_mode').apply(lambda x: x.sample(min(len(x), sample_size // len(df['transport_mode'].unique())))).reset_index(drop=True)\n",
    "        print(f\"Using a stratified sample of {len(df_sample)} examples\")\n",
    "    else:\n",
    "        df_sample = df\n",
    "        print(f\"Using all {len(df_sample)} examples\")\n",
    "    \n",
    "    # Make a copy to avoid modifying the original\n",
    "    results_df = df_sample.copy()\n",
    "    results_df['predicted_mode'] = None\n",
    "    \n",
    "    # For tracking progress\n",
    "    total_cost_estimate = 0\n",
    "    \n",
    "    # Run inference\n",
    "    for idx, row in tqdm(results_df.iterrows(), total=len(results_df), desc=f\"Running inference with {model}\"):\n",
    "        summary = row['summary']\n",
    "        \n",
    "        # Make prediction\n",
    "        predicted_mode = predict_transport_mode(summary, model=model)\n",
    "        results_df.at[idx, 'predicted_mode'] = predicted_mode\n",
    "        \n",
    "        # Estimate cost (very rough estimate)\n",
    "        if model.startswith('gpt-4'):\n",
    "            # GPT-4 costs more\n",
    "            total_cost_estimate += 0.01  # Approximate cost per API call\n",
    "        else:\n",
    "            total_cost_estimate += 0.002  # Approximate cost per API call for GPT-3.5\n",
    "            \n",
    "        # Sleep to avoid rate limiting\n",
    "        time.sleep(0.5)\n",
    "    \n",
    "    print(f\"\\nEstimated API cost: ${total_cost_estimate:.2f}\")\n",
    "    \n",
    "    return results_df\n",
    "\n",
    "\n",
    "# Set this to a small number to test, like 5-10 examples per mode\n",
    "SAMPLE_SIZE = 80  # This would be 10 examples per mode for 6 modes\n",
    "\n",
    "# Choose the model to use\n",
    "MODEL = \"gpt-4o\"  # Cheaper option for testing\n",
    "# MODEL = \"gpt-4o\"       # More accurate but more expensive\n",
    "\n",
    "# Run inference\n",
    "# When ready to run, uncomment the line below:\n",
    "results_df = run_inference(df, model=MODEL, sample_size=SAMPLE_SIZE)"
   ]
  },
  {
   "cell_type": "code",
   "execution_count": 15,
   "metadata": {},
   "outputs": [
    {
     "name": "stdout",
     "output_type": "stream",
     "text": [
      "  transport_mode                                            summary  \\\n",
      "0           bike  Trip Summary:\\n- Start: 2008-05-30 01:26:41 at...   \n",
      "1           bike  Trip Summary:\\n- Start: 2011-11-04 19:40:10 at...   \n",
      "2           bike  Trip Summary:\\n- Start: 2023-09-15 14:15:23 at...   \n",
      "3           bike  Trip Summary:\\n- Start: 2023-08-15 07:30:00 at...   \n",
      "4            bus  Trip Summary:\\n- Start: 2011-11-08 02:04:35 at...   \n",
      "\n",
      "  predicted_mode  \n",
      "0           bike  \n",
      "1           bike  \n",
      "2            bus  \n",
      "3            bus  \n",
      "4            car  \n"
     ]
    }
   ],
   "source": [
    "print(results_df.head())"
   ]
  },
  {
   "cell_type": "code",
   "execution_count": 8,
   "metadata": {},
   "outputs": [],
   "source": [
    "\n",
    "# ## Evaluate Results\n",
    "\n",
    "def evaluate_results(results_df):\n",
    "    \"\"\"\n",
    "    Evaluate the results of the inference.\n",
    "    \n",
    "    Args:\n",
    "        results_df (DataFrame): DataFrame with true and predicted modes\n",
    "    \"\"\"\n",
    "    # Get predictions and true values\n",
    "    y_true = results_df['transport_mode']\n",
    "    y_pred = results_df['predicted_mode']\n",
    "    \n",
    "    # Calculate accuracy\n",
    "    accuracy = accuracy_score(y_true, y_pred)\n",
    "    print(f\"Accuracy: {accuracy:.4f}\")\n",
    "    \n",
    "    # Print classification report\n",
    "    print(\"\\nClassification Report:\")\n",
    "    print(classification_report(y_true, y_pred))\n",
    "    \n",
    "    # Create confusion matrix\n",
    "    cm = confusion_matrix(y_true, y_pred)\n",
    "    \n",
    "    # Get unique classes\n",
    "    classes = sorted(results_df['transport_mode'].unique())\n",
    "    \n",
    "    # Plot confusion matrix\n",
    "    plt.figure(figsize=(10, 8))\n",
    "    sns.heatmap(cm, annot=True, fmt='d', cmap='Blues', \n",
    "                xticklabels=classes, yticklabels=classes)\n",
    "    plt.xlabel('Predicted')\n",
    "    plt.ylabel('True')\n",
    "    plt.title('Confusion Matrix')\n",
    "    plt.show()\n",
    "    \n",
    "    # Calculate per-class accuracy\n",
    "    per_class_acc = {}\n",
    "    for cls in classes:\n",
    "        mask = y_true == cls\n",
    "        if mask.sum() > 0:  # Avoid division by zero\n",
    "            per_class_acc[cls] = (y_pred[mask] == cls).mean()\n",
    "        else:\n",
    "            per_class_acc[cls] = 0\n",
    "    \n",
    "    # Plot per-class accuracy\n",
    "    plt.figure(figsize=(10, 6))\n",
    "    sns.barplot(x=list(per_class_acc.keys()), y=list(per_class_acc.values()))\n",
    "    plt.axhline(y=accuracy, color='r', linestyle='--', label=f'Overall Accuracy: {accuracy:.4f}')\n",
    "    plt.ylim(0, 1.1)\n",
    "    plt.ylabel('Accuracy')\n",
    "    plt.xlabel('Transport Mode')\n",
    "    plt.title('Per-Class Accuracy')\n",
    "    plt.legend()\n",
    "    plt.show()\n",
    "    \n",
    "    # Return the evaluation metrics for later comparison\n",
    "    return {\n",
    "        'accuracy': accuracy,\n",
    "        'per_class_accuracy': per_class_acc,\n",
    "        'classification_report': classification_report(y_true, y_pred, output_dict=True)\n",
    "    }"
   ]
  },
  {
   "cell_type": "code",
   "execution_count": 17,
   "metadata": {},
   "outputs": [
    {
     "name": "stdout",
     "output_type": "stream",
     "text": [
      "Accuracy: 0.5875\n",
      "\n",
      "Classification Report:\n",
      "              precision    recall  f1-score   support\n",
      "\n",
      "        bike       0.58      0.69      0.63        16\n",
      "         bus       0.73      0.69      0.71        16\n",
      "         car       0.56      0.56      0.56        16\n",
      "      others       0.00      0.00      0.00        16\n",
      "       train       0.00      0.00      0.00         0\n",
      "        walk       0.70      1.00      0.82        16\n",
      "\n",
      "    accuracy                           0.59        80\n",
      "   macro avg       0.43      0.49      0.45        80\n",
      "weighted avg       0.51      0.59      0.54        80\n",
      "\n"
     ]
    },
    {
     "name": "stderr",
     "output_type": "stream",
     "text": [
      "/Users/mac/.pyenv/versions/3.11.5/lib/python3.11/site-packages/sklearn/metrics/_classification.py:1469: UndefinedMetricWarning: Precision and F-score are ill-defined and being set to 0.0 in labels with no predicted samples. Use `zero_division` parameter to control this behavior.\n",
      "  _warn_prf(average, modifier, msg_start, len(result))\n",
      "/Users/mac/.pyenv/versions/3.11.5/lib/python3.11/site-packages/sklearn/metrics/_classification.py:1469: UndefinedMetricWarning: Recall and F-score are ill-defined and being set to 0.0 in labels with no true samples. Use `zero_division` parameter to control this behavior.\n",
      "  _warn_prf(average, modifier, msg_start, len(result))\n",
      "/Users/mac/.pyenv/versions/3.11.5/lib/python3.11/site-packages/sklearn/metrics/_classification.py:1469: UndefinedMetricWarning: Precision and F-score are ill-defined and being set to 0.0 in labels with no predicted samples. Use `zero_division` parameter to control this behavior.\n",
      "  _warn_prf(average, modifier, msg_start, len(result))\n",
      "/Users/mac/.pyenv/versions/3.11.5/lib/python3.11/site-packages/sklearn/metrics/_classification.py:1469: UndefinedMetricWarning: Recall and F-score are ill-defined and being set to 0.0 in labels with no true samples. Use `zero_division` parameter to control this behavior.\n",
      "  _warn_prf(average, modifier, msg_start, len(result))\n",
      "/Users/mac/.pyenv/versions/3.11.5/lib/python3.11/site-packages/sklearn/metrics/_classification.py:1469: UndefinedMetricWarning: Precision and F-score are ill-defined and being set to 0.0 in labels with no predicted samples. Use `zero_division` parameter to control this behavior.\n",
      "  _warn_prf(average, modifier, msg_start, len(result))\n",
      "/Users/mac/.pyenv/versions/3.11.5/lib/python3.11/site-packages/sklearn/metrics/_classification.py:1469: UndefinedMetricWarning: Recall and F-score are ill-defined and being set to 0.0 in labels with no true samples. Use `zero_division` parameter to control this behavior.\n",
      "  _warn_prf(average, modifier, msg_start, len(result))\n"
     ]
    },
    {
     "data": {
      "image/png": "[encoded data removed]",
      "text/plain": [
       "<Figure size 1000x800 with 2 Axes>"
      ]
     },
     "metadata": {},
     "output_type": "display_data"
    },
    {
     "data": {
      "image/png": "[encoded data removed]",
      "text/plain": [
       "<Figure size 1000x600 with 1 Axes>"
      ]
     },
     "metadata": {},
     "output_type": "display_data"
    },
    {
     "name": "stderr",
     "output_type": "stream",
     "text": [
      "/Users/mac/.pyenv/versions/3.11.5/lib/python3.11/site-packages/sklearn/metrics/_classification.py:1469: UndefinedMetricWarning: Precision and F-score are ill-defined and being set to 0.0 in labels with no predicted samples. Use `zero_division` parameter to control this behavior.\n",
      "  _warn_prf(average, modifier, msg_start, len(result))\n",
      "/Users/mac/.pyenv/versions/3.11.5/lib/python3.11/site-packages/sklearn/metrics/_classification.py:1469: UndefinedMetricWarning: Recall and F-score are ill-defined and being set to 0.0 in labels with no true samples. Use `zero_division` parameter to control this behavior.\n",
      "  _warn_prf(average, modifier, msg_start, len(result))\n",
      "/Users/mac/.pyenv/versions/3.11.5/lib/python3.11/site-packages/sklearn/metrics/_classification.py:1469: UndefinedMetricWarning: Precision and F-score are ill-defined and being set to 0.0 in labels with no predicted samples. Use `zero_division` parameter to control this behavior.\n",
      "  _warn_prf(average, modifier, msg_start, len(result))\n",
      "/Users/mac/.pyenv/versions/3.11.5/lib/python3.11/site-packages/sklearn/metrics/_classification.py:1469: UndefinedMetricWarning: Recall and F-score are ill-defined and being set to 0.0 in labels with no true samples. Use `zero_division` parameter to control this behavior.\n",
      "  _warn_prf(average, modifier, msg_start, len(result))\n",
      "/Users/mac/.pyenv/versions/3.11.5/lib/python3.11/site-packages/sklearn/metrics/_classification.py:1469: UndefinedMetricWarning: Precision and F-score are ill-defined and being set to 0.0 in labels with no predicted samples. Use `zero_division` parameter to control this behavior.\n",
      "  _warn_prf(average, modifier, msg_start, len(result))\n",
      "/Users/mac/.pyenv/versions/3.11.5/lib/python3.11/site-packages/sklearn/metrics/_classification.py:1469: UndefinedMetricWarning: Recall and F-score are ill-defined and being set to 0.0 in labels with no true samples. Use `zero_division` parameter to control this behavior.\n",
      "  _warn_prf(average, modifier, msg_start, len(result))\n"
     ]
    }
   ],
   "source": [
    "metrics = evaluate_results(results_df)"
   ]
  },
  {
   "cell_type": "code",
   "execution_count": null,
   "metadata": {},
   "outputs": [],
   "source": [
    "\n",
    "# ## Save Results\n",
    "#\n",
    "# Save the predictions and evaluation metrics for later comparison with fine-tuned models.\n",
    "\n",
    "def save_results(results_df, metrics, model_name):\n",
    "    \"\"\"\n",
    "    Save the results and metrics to files.\n",
    "    \n",
    "    Args:\n",
    "        results_df (DataFrame): DataFrame with predictions\n",
    "        metrics (dict): Evaluation metrics\n",
    "        model_name (str): Name of the model used\n",
    "    \"\"\"\n",
    "    # Create a timestamp\n",
    "    timestamp = time.strftime(\"%Y%m%d-%H%M%S\")\n",
    "    \n",
    "    # Save the predictions\n",
    "    filename = f\"{model_name}_predictions_{timestamp}.csv\"\n",
    "    results_df.to_csv(filename, index=False)\n",
    "    print(f\"Saved predictions to {filename}\")\n",
    "    \n",
    "    # Save the metrics\n",
    "    metrics_filename = f\"{model_name}_metrics_{timestamp}.json\"\n",
    "    with open(metrics_filename, 'w') as f:\n",
    "        # Convert classification report to a serializable format\n",
    "        if 'classification_report' in metrics:\n",
    "            metrics['classification_report'] = {\n",
    "                k: {kk: float(vv) for kk, vv in v.items()} \n",
    "                if isinstance(v, dict) else float(v)\n",
    "                for k, v in metrics['classification_report'].items()\n",
    "            }\n",
    "        json.dump(metrics, f, indent=2)\n",
    "    print(f\"Saved metrics to {metrics_filename}\")\n",
    "\n",
    "# When you have results, uncomment to save\n",
    "# save_results(results_df, metrics, MODEL)"
   ]
  },
  {
   "cell_type": "code",
   "execution_count": null,
   "metadata": {},
   "outputs": [],
   "source": [
    "\n",
    "# ## Running the script\n",
    "if __name__ == \"__main__\":\n",
    "    print(\"\\n\" + \"=\"*50)\n",
    "    print(\"GPT Inference Script for Transport Mode Prediction\")\n",
    "    print(\"=\"*50)\n",
    "    \n",
    "    print(\"\\nTo run inference with GPT:\")\n",
    "    print(\"1. Make sure your OpenAI API key is set\")\n",
    "    print(\"2. Uncomment the results_df = run_inference() line\")\n",
    "    print(\"3. Uncomment the metrics = evaluate_results() line\")\n",
    "    print(\"4. Uncomment the save_results() line if you want to save the results\")\n",
    "    \n",
    "    print(\"\\nNOTE: This script will make API calls to OpenAI which may incur costs.\")\n",
    "    print(\"      You can control the cost by setting a small SAMPLE_SIZE.\") "
   ]
  }
 ],
 "metadata": {
  "kernelspec": {
   "display_name": "3.11.5",
   "language": "python",
   "name": "python3"
  },
  "language_info": {
   "codemirror_mode": {
    "name": "ipython",
    "version": 3
   },
   "file_extension": ".py",
   "mimetype": "text/x-python",
   "name": "python",
   "nbconvert_exporter": "python",
   "pygments_lexer": "ipython3",
   "version": "3.11.5"
  }
 },
 "nbformat": 4,
 "nbformat_minor": 2
}
