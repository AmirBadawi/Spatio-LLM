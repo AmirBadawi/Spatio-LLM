{
 "cells": [
  {
   "cell_type": "code",
   "execution_count": 1,
   "metadata": {},
   "outputs": [],
   "source": [
    "import re\n",
    "import pandas as pd\n",
    "\n",
    "def parse_trip_summary(text):\n",
    "    \"\"\"\n",
    "    Extract key fields from a single trip summary.\n",
    "    Here we extract the transport mode and keep the full summary.\n",
    "    You can extend this to parse other fields (e.g., start/end times, distance).\n",
    "    \"\"\"\n",
    "    mode_match = re.search(r\"- Transport Mode:\\s*(.*)\", text)\n",
    "    transport_mode = mode_match.group(1).strip() if mode_match else \"Unknown\"\n",
    "    return {\n",
    "        \"transport_mode\": transport_mode,\n",
    "        \"summary\": text.strip()\n",
    "    }"
   ]
  },
  {
   "cell_type": "code",
   "execution_count": 2,
   "metadata": {},
   "outputs": [
    {
     "name": "stdout",
     "output_type": "stream",
     "text": [
      "Trip summary counts by transport mode:\n",
      "transport_mode\n",
      "walk       62\n",
      "bus        36\n",
      "bike       24\n",
      "taxi       11\n",
      "car         7\n",
      "Mixed       3\n",
      "Unknown     1\n",
      "Name: count, dtype: int64\n"
     ]
    }
   ],
   "source": [
    "# Read the trip summaries from file\n",
    "file_path = \"./trip_summaries.txt\"  # Adjust the path if needed\n",
    "with open(file_path, \"r\", encoding=\"utf-8\") as f:\n",
    "    content = f.read()\n",
    "\n",
    "# Each trip summary is assumed to be separated by two newlines.\n",
    "trip_texts = [t.strip() for t in content.strip().split(\"\\n\\n\") if t.strip()]\n",
    "\n",
    "# Parse each trip summary into a structured dict.\n",
    "data = [parse_trip_summary(trip) for trip in trip_texts]\n",
    "\n",
    "# Create a DataFrame\n",
    "df = pd.DataFrame(data)\n",
    "print(\"Trip summary counts by transport mode:\")\n",
    "print(df['transport_mode'].value_counts())"
   ]
  },
  {
   "cell_type": "code",
   "execution_count": 2,
   "metadata": {},
   "outputs": [
    {
     "name": "stdout",
     "output_type": "stream",
     "text": [
      "Updated transport mode counts:\n",
      "transport_mode\n",
      "walk      442\n",
      "bike      248\n",
      "bus       242\n",
      "others    197\n",
      "car       169\n",
      "Mixed     138\n",
      "Name: count, dtype: int64\n"
     ]
    }
   ],
   "source": [
    "import pandas as pd\n",
    "\n",
    "# Assuming 'df' is your DataFrame containing the trip summaries with a 'transport_mode' column\n",
    "main_classes = {\"walk\", \"bike\", \"bus\", \"car\", \"Mixed\"}\n",
    "\n",
    "# Transform transport_mode: if not in main_classes, assign \"others\"\n",
    "df['transport_mode'] = df['transport_mode'].apply(\n",
    "    lambda x: x if x in main_classes else \"others\"\n",
    ")\n",
    "\n",
    "print(\"Updated transport mode counts:\")\n",
    "print(df['transport_mode'].value_counts())"
   ]
  },
  {
   "cell_type": "code",
   "execution_count": 3,
   "metadata": {},
   "outputs": [],
   "source": [
    "from openai import AzureOpenAI\n",
    "# Initialize the Azure OpenAI client\n",
    "azure_openai = AzureOpenAI(\n",
    "    azure_endpoint=\"https://intelligencia-openai-lab02.openai.azure.com/\",\n",
    "    api_key=\"049425cc99184a619ff068082279749f\",\n",
    "    api_version=\"2024-02-15-preview\"\n",
    ")"
   ]
  },
  {
   "cell_type": "code",
   "execution_count": null,
   "metadata": {},
   "outputs": [
    {
     "name": "stdout",
     "output_type": "stream",
     "text": [
      "Balanced dataset counts:\n",
      "transport_mode\n",
      "Mixed     300\n",
      "bike      300\n",
      "bus       300\n",
      "car       300\n",
      "others    300\n",
      "walk      300\n",
      "Name: count, dtype: int64\n"
     ]
    }
   ],
   "source": [
    "import pandas as pd\n",
    "import random\n",
    "\n",
    "# Set the target count for each class after balancing.\n",
    "target_count = 300\n",
    "\n",
    "# Function to call Azure OpenAI to generate a new trip summary based on a seed.\n",
    "def generate_sample_via_chatgpt(seed_summary):\n",
    "    \"\"\"\n",
    "    Generate a new trip summary using Azure OpenAI based on a seed summary.\n",
    "    The prompt instructs the model to produce a similar, yet distinct, trip summary.\n",
    "    \"\"\"\n",
    "    prompt = (\n",
    "        \"\"\"Generate a realistic, GPS-based textual trip summary strictly adhering to the template below. \n",
    "        Only generate summaries for the transport mode {transport_mode}. Replace all placeholders with realistic values. \n",
    "        Ensure accuracy, consistency, and realism, including plausible speed, acceleration, distances, and turn metrics \n",
    "        according to the specified transport mode ({transport_mode}: choose from “walk”, “bike”, “bus”, “car”, or “train”).\n",
    "        Trip Summary:\n",
    "        - Start: YYYY-MM-DD HH:MM:SS at [Start Location Address]\n",
    "        - End: YYYY-MM-DD HH:MM:SS at [End Location Address]\n",
    "        - Duration: X days HH:MM:SS\n",
    "        - Distance: X.XX km\n",
    "        - Average Speed: XX.XX km/h\n",
    "        - Average Bearing Change: XX.XX°\n",
    "        - Max Speed: XX.XX km/h\n",
    "        - Min Speed: XX.XX km/h\n",
    "        - Speed Variability: XX.XX km/h\n",
    "        - Average Acceleration: X.XX m/s²\n",
    "        - Max Acceleration: XX.XX m/s²\n",
    "        - Number of Turns: XX\n",
    "        - Turn Rate: XX.XX turns/min\n",
    "        - Average Turn Angle: XX.XX°\n",
    "        - Turn Angle Variability: XX.XX°\n",
    "        - Transport Mode: {transport_mode}\n",
    "\n",
    "        **Example Transport Modes and plausible speed ranges:**  \n",
    "        - walk: 3–6 km/h  \n",
    "        - bike: 10–25 km/h  \n",
    "        - bus: 15–50 km/h  \n",
    "        - car: 20–80 km/h  \n",
    "\n",
    "        Generate the new trip summary below:\n",
    "        \"\"\"\n",
    "    )\n",
    "    \n",
    "    # Build the message list for the completion call.\n",
    "    messages = [\n",
    "        {\"role\": \"system\", \"content\": \"You are a trip summary augmentation assistant.\"},\n",
    "        {\"role\": \"user\", \"content\": prompt}\n",
    "    ]\n",
    "    \n",
    "    # Call the Azure OpenAI API. Adjust model name and parameters as needed.\n",
    "    response = azure_openai.chat.completions.create(\n",
    "        model=\"gpt-4o\",  # Replace with your actual deployment name if needed\n",
    "        messages=messages,\n",
    "        temperature=0.7,  # Adjust for creativity if desired\n",
    "        max_tokens=300    # Adjust based on expected summary length\n",
    "    )\n",
    "    \n",
    "    new_summary = response.choices[0].message.content.strip()\n",
    "    return new_summary\n",
    "\n",
    "# Assume df is your DataFrame containing trip summaries with at least the following columns:\n",
    "# 'summary' (the text of the trip summary) and 'transport_mode'\n",
    "# Also assume you have already transformed transport_mode so that only main classes remain, e.g., \"walk\", \"bike\", \"bus\", \"car\", \"Mixed\", and \"others\".\n",
    "\n",
    "# Step 1: Slightly undersample the majority classes.\n",
    "undersampled_list = []\n",
    "for mode, group in df.groupby('transport_mode'):\n",
    "    if len(group) > target_count:\n",
    "        # For classes above target, sample without replacement.\n",
    "        undersampled_group = group.sample(target_count, random_state=42)\n",
    "    else:\n",
    "        undersampled_group = group.copy()\n",
    "    undersampled_list.append(undersampled_group)\n",
    "undersampled_df = pd.concat(undersampled_list).reset_index(drop=True)\n",
    "\n",
    "# Step 2: For classes with fewer than target_count samples, augment using ChatGPT.\n",
    "augmented_samples = []\n",
    "for mode, group in undersampled_df.groupby('transport_mode'):\n",
    "    current_count = len(group)\n",
    "    if current_count < target_count:\n",
    "        num_to_generate = target_count - current_count\n",
    "        # Use existing samples from this class as seeds.\n",
    "        seed_samples = group['summary'].tolist()\n",
    "        for _ in range(num_to_generate):\n",
    "            seed = random.choice(seed_samples)\n",
    "            new_sample = generate_sample_via_chatgpt(seed)\n",
    "            augmented_samples.append({\n",
    "                'transport_mode': mode,\n",
    "                'summary': new_sample\n",
    "            })\n",
    "\n",
    "# Convert augmented samples into a DataFrame.\n",
    "augmented_df = pd.DataFrame(augmented_samples)\n",
    "\n",
    "# Combine the undersampled data with the augmented data.\n",
    "balanced_df = pd.concat([undersampled_df, augmented_df]).reset_index(drop=True)\n",
    "\n",
    "# Verify the new class counts.\n",
    "print(\"Balanced dataset counts:\")\n",
    "print(balanced_df['transport_mode'].value_counts())"
   ]
  },
  {
   "cell_type": "code",
   "execution_count": 7,
   "metadata": {},
   "outputs": [
    {
     "name": "stdout",
     "output_type": "stream",
     "text": [
      "Balanced dataset saved as CSV: balanced_trip_summaries.csv\n",
      "Balanced dataset saved as JSONL: balanced_trip_summaries.jsonl\n"
     ]
    }
   ],
   "source": [
    "# Save the balanced dataset to a CSV file.\n",
    "csv_file_path = \"balanced_trip_summaries.csv\"\n",
    "balanced_df.to_csv(csv_file_path, index=False)\n",
    "print(f\"Balanced dataset saved as CSV: {csv_file_path}\")\n",
    "\n",
    "# Save the balanced dataset to a JSONL file.\n",
    "jsonl_file_path = \"balanced_trip_summaries.jsonl\"\n",
    "balanced_df.to_json(jsonl_file_path, orient=\"records\", lines=True)\n",
    "print(f\"Balanced dataset saved as JSONL: {jsonl_file_path}\")"
   ]
  },
  {
   "cell_type": "code",
   "execution_count": null,
   "metadata": {},
   "outputs": [],
   "source": [
    "Alright, now that our dataset is ready, let’s create a new notebook to run inference using the DeepSeek model. We’ll pass in our balanced dataset (balanced_trip_summaries.jsonl) to predict the transport mode. This will be done before fine-tuning, as I want to compare the model’s performance before and after fine-tuning."
   ]
  }
 ],
 "metadata": {
  "kernelspec": {
   "display_name": "3.11.5",
   "language": "python",
   "name": "python3"
  },
  "language_info": {
   "codemirror_mode": {
    "name": "ipython",
    "version": 3
   },
   "file_extension": ".py",
   "mimetype": "text/x-python",
   "name": "python",
   "nbconvert_exporter": "python",
   "pygments_lexer": "ipython3",
   "version": "3.11.5"
  }
 },
 "nbformat": 4,
 "nbformat_minor": 2
}
